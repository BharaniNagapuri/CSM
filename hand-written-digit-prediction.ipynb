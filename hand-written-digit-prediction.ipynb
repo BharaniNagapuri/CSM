{
 "cells": [
  {
   "cell_type": "code",
   "execution_count": 1,
   "id": "6a9bf464",
   "metadata": {
    "_cell_guid": "b1076dfc-b9ad-4769-8c92-a6c4dae69d19",
    "_uuid": "8f2839f25d086af736a60e9eeb907d3b93b6e0e5",
    "execution": {
     "iopub.execute_input": "2023-08-28T08:38:42.483328Z",
     "iopub.status.busy": "2023-08-28T08:38:42.482852Z",
     "iopub.status.idle": "2023-08-28T08:38:42.495309Z",
     "shell.execute_reply": "2023-08-28T08:38:42.494402Z"
    },
    "papermill": {
     "duration": 0.024358,
     "end_time": "2023-08-28T08:38:42.497723",
     "exception": false,
     "start_time": "2023-08-28T08:38:42.473365",
     "status": "completed"
    },
    "tags": []
   },
   "outputs": [],
   "source": [
    "# This Python 3 environment comes with many helpful analytics libraries installed\n",
    "# It is defined by the kaggle/python Docker image: https://github.com/kaggle/docker-python\n",
    "# For example, here's several helpful packages to load\n",
    "\n",
    "import numpy as np # linear algebra\n",
    "import pandas as pd # data processing, CSV file I/O (e.g. pd.read_csv)\n",
    "\n",
    "# Input data files are available in the read-only \"../input/\" directory\n",
    "# For example, running this (by clicking run or pressing Shift+Enter) will list all files under the input directory\n",
    "\n",
    "import os\n",
    "for dirname, _, filenames in os.walk('/kaggle/input'):\n",
    "    for filename in filenames:\n",
    "        print(os.path.join(dirname, filename))\n",
    "\n",
    "# You can write up to 20GB to the current directory (/kaggle/working/) that gets preserved as output when you create a version using \"Save & Run All\" \n",
    "# You can also write temporary files to /kaggle/temp/, but they won't be saved outside of the current session"
   ]
  },
  {
   "cell_type": "code",
   "execution_count": 2,
   "id": "b4ab0cb3",
   "metadata": {
    "execution": {
     "iopub.execute_input": "2023-08-28T08:38:42.514183Z",
     "iopub.status.busy": "2023-08-28T08:38:42.513541Z",
     "iopub.status.idle": "2023-08-28T08:38:42.518064Z",
     "shell.execute_reply": "2023-08-28T08:38:42.517314Z"
    },
    "papermill": {
     "duration": 0.015015,
     "end_time": "2023-08-28T08:38:42.520110",
     "exception": false,
     "start_time": "2023-08-28T08:38:42.505095",
     "status": "completed"
    },
    "tags": []
   },
   "outputs": [],
   "source": [
    "import pandas as pd"
   ]
  },
  {
   "cell_type": "code",
   "execution_count": 3,
   "id": "95cbd345",
   "metadata": {
    "execution": {
     "iopub.execute_input": "2023-08-28T08:38:42.536255Z",
     "iopub.status.busy": "2023-08-28T08:38:42.535622Z",
     "iopub.status.idle": "2023-08-28T08:38:42.540012Z",
     "shell.execute_reply": "2023-08-28T08:38:42.539279Z"
    },
    "papermill": {
     "duration": 0.0146,
     "end_time": "2023-08-28T08:38:42.541930",
     "exception": false,
     "start_time": "2023-08-28T08:38:42.527330",
     "status": "completed"
    },
    "tags": []
   },
   "outputs": [],
   "source": [
    "import numpy as np"
   ]
  },
  {
   "cell_type": "code",
   "execution_count": 4,
   "id": "e5ebfc46",
   "metadata": {
    "execution": {
     "iopub.execute_input": "2023-08-28T08:38:42.557982Z",
     "iopub.status.busy": "2023-08-28T08:38:42.557362Z",
     "iopub.status.idle": "2023-08-28T08:38:42.562118Z",
     "shell.execute_reply": "2023-08-28T08:38:42.561071Z"
    },
    "papermill": {
     "duration": 0.015398,
     "end_time": "2023-08-28T08:38:42.564419",
     "exception": false,
     "start_time": "2023-08-28T08:38:42.549021",
     "status": "completed"
    },
    "tags": []
   },
   "outputs": [],
   "source": [
    "import matplotlib.pyplot as plt"
   ]
  },
  {
   "cell_type": "code",
   "execution_count": 5,
   "id": "c1f83205",
   "metadata": {
    "execution": {
     "iopub.execute_input": "2023-08-28T08:38:42.581847Z",
     "iopub.status.busy": "2023-08-28T08:38:42.581471Z",
     "iopub.status.idle": "2023-08-28T08:38:43.777222Z",
     "shell.execute_reply": "2023-08-28T08:38:43.776137Z"
    },
    "papermill": {
     "duration": 1.207172,
     "end_time": "2023-08-28T08:38:43.780215",
     "exception": false,
     "start_time": "2023-08-28T08:38:42.573043",
     "status": "completed"
    },
    "tags": []
   },
   "outputs": [
    {
     "name": "stderr",
     "output_type": "stream",
     "text": [
      "/opt/conda/lib/python3.10/site-packages/scipy/__init__.py:146: UserWarning: A NumPy version >=1.16.5 and <1.23.0 is required for this version of SciPy (detected version 1.23.5\n",
      "  warnings.warn(f\"A NumPy version >={np_minversion} and <{np_maxversion}\"\n"
     ]
    }
   ],
   "source": [
    "from sklearn.datasets import load_digits"
   ]
  },
  {
   "cell_type": "code",
   "execution_count": 6,
   "id": "09746ae7",
   "metadata": {
    "execution": {
     "iopub.execute_input": "2023-08-28T08:38:43.800187Z",
     "iopub.status.busy": "2023-08-28T08:38:43.799180Z",
     "iopub.status.idle": "2023-08-28T08:38:43.824437Z",
     "shell.execute_reply": "2023-08-28T08:38:43.823686Z"
    },
    "papermill": {
     "duration": 0.039177,
     "end_time": "2023-08-28T08:38:43.826939",
     "exception": false,
     "start_time": "2023-08-28T08:38:43.787762",
     "status": "completed"
    },
    "tags": []
   },
   "outputs": [],
   "source": [
    "df = load_digits()"
   ]
  },
  {
   "cell_type": "code",
   "execution_count": 7,
   "id": "f9f676cc",
   "metadata": {
    "execution": {
     "iopub.execute_input": "2023-08-28T08:38:43.845481Z",
     "iopub.status.busy": "2023-08-28T08:38:43.844375Z",
     "iopub.status.idle": "2023-08-28T08:38:44.226708Z",
     "shell.execute_reply": "2023-08-28T08:38:44.225509Z"
    },
    "papermill": {
     "duration": 0.393635,
     "end_time": "2023-08-28T08:38:44.229134",
     "exception": false,
     "start_time": "2023-08-28T08:38:43.835499",
     "status": "completed"
    },
    "tags": []
   },
   "outputs": [
    {
     "data": {
      "image/png": "[encoded data removed]",
      "text/plain": [
       "<Figure size 1000x300 with 4 Axes>"
      ]
     },
     "metadata": {},
     "output_type": "display_data"
    }
   ],
   "source": [
    "_, axes = plt.subplots(nrows=1 ,ncols=4, figsize=(10, 3))\n",
    "for ax, image, label in zip(axes, df.images, df.target):\n",
    "    ax.set_axis_off()\n",
    "    ax.imshow(image, cmap=plt.cm.gray_r, interpolation=\"nearest\")\n",
    "    ax.set_title(\"Training: %i\" % label)"
   ]
  },
  {
   "cell_type": "code",
   "execution_count": 8,
   "id": "92930be1",
   "metadata": {
    "execution": {
     "iopub.execute_input": "2023-08-28T08:38:44.246516Z",
     "iopub.status.busy": "2023-08-28T08:38:44.245870Z",
     "iopub.status.idle": "2023-08-28T08:38:44.252538Z",
     "shell.execute_reply": "2023-08-28T08:38:44.251464Z"
    },
    "papermill": {
     "duration": 0.017794,
     "end_time": "2023-08-28T08:38:44.254796",
     "exception": false,
     "start_time": "2023-08-28T08:38:44.237002",
     "status": "completed"
    },
    "tags": []
   },
   "outputs": [
    {
     "data": {
      "text/plain": [
       "(1797, 8, 8)"
      ]
     },
     "execution_count": 8,
     "metadata": {},
     "output_type": "execute_result"
    }
   ],
   "source": [
    "df.images.shape"
   ]
  },
  {
   "cell_type": "code",
   "execution_count": 9,
   "id": "80ba00c6",
   "metadata": {
    "execution": {
     "iopub.execute_input": "2023-08-28T08:38:44.271456Z",
     "iopub.status.busy": "2023-08-28T08:38:44.271071Z",
     "iopub.status.idle": "2023-08-28T08:38:44.278659Z",
     "shell.execute_reply": "2023-08-28T08:38:44.277567Z"
    },
    "papermill": {
     "duration": 0.01873,
     "end_time": "2023-08-28T08:38:44.280906",
     "exception": false,
     "start_time": "2023-08-28T08:38:44.262176",
     "status": "completed"
    },
    "tags": []
   },
   "outputs": [
    {
     "data": {
      "text/plain": [
       "array([[ 0.,  0.,  5., 13.,  9.,  1.,  0.,  0.],\n",
       "       [ 0.,  0., 13., 15., 10., 15.,  5.,  0.],\n",
       "       [ 0.,  3., 15.,  2.,  0., 11.,  8.,  0.],\n",
       "       [ 0.,  4., 12.,  0.,  0.,  8.,  8.,  0.],\n",
       "       [ 0.,  5.,  8.,  0.,  0.,  9.,  8.,  0.],\n",
       "       [ 0.,  4., 11.,  0.,  1., 12.,  7.,  0.],\n",
       "       [ 0.,  2., 14.,  5., 10., 12.,  0.,  0.],\n",
       "       [ 0.,  0.,  6., 13., 10.,  0.,  0.,  0.]])"
      ]
     },
     "execution_count": 9,
     "metadata": {},
     "output_type": "execute_result"
    }
   ],
   "source": [
    "df.images[0]"
   ]
  },
  {
   "cell_type": "code",
   "execution_count": 10,
   "id": "50282076",
   "metadata": {
    "execution": {
     "iopub.execute_input": "2023-08-28T08:38:44.297829Z",
     "iopub.status.busy": "2023-08-28T08:38:44.297419Z",
     "iopub.status.idle": "2023-08-28T08:38:44.305081Z",
     "shell.execute_reply": "2023-08-28T08:38:44.303695Z"
    },
    "papermill": {
     "duration": 0.018788,
     "end_time": "2023-08-28T08:38:44.307340",
     "exception": false,
     "start_time": "2023-08-28T08:38:44.288552",
     "status": "completed"
    },
    "tags": []
   },
   "outputs": [
    {
     "data": {
      "text/plain": [
       "(8, 8)"
      ]
     },
     "execution_count": 10,
     "metadata": {},
     "output_type": "execute_result"
    }
   ],
   "source": [
    "df.images[0].shape"
   ]
  },
  {
   "cell_type": "code",
   "execution_count": 11,
   "id": "bf851056",
   "metadata": {
    "execution": {
     "iopub.execute_input": "2023-08-28T08:38:44.324390Z",
     "iopub.status.busy": "2023-08-28T08:38:44.324030Z",
     "iopub.status.idle": "2023-08-28T08:38:44.329552Z",
     "shell.execute_reply": "2023-08-28T08:38:44.328836Z"
    },
    "papermill": {
     "duration": 0.016408,
     "end_time": "2023-08-28T08:38:44.331596",
     "exception": false,
     "start_time": "2023-08-28T08:38:44.315188",
     "status": "completed"
    },
    "tags": []
   },
   "outputs": [
    {
     "data": {
      "text/plain": [
       "1797"
      ]
     },
     "execution_count": 11,
     "metadata": {},
     "output_type": "execute_result"
    }
   ],
   "source": [
    "len(df.images)"
   ]
  },
  {
   "cell_type": "code",
   "execution_count": 12,
   "id": "52cd9223",
   "metadata": {
    "execution": {
     "iopub.execute_input": "2023-08-28T08:38:44.349134Z",
     "iopub.status.busy": "2023-08-28T08:38:44.348757Z",
     "iopub.status.idle": "2023-08-28T08:38:44.353879Z",
     "shell.execute_reply": "2023-08-28T08:38:44.352778Z"
    },
    "papermill": {
     "duration": 0.016953,
     "end_time": "2023-08-28T08:38:44.356350",
     "exception": false,
     "start_time": "2023-08-28T08:38:44.339397",
     "status": "completed"
    },
    "tags": []
   },
   "outputs": [],
   "source": [
    "n_samples = len(df.images)\n",
    "data = df.images.reshape((n_samples, -1))"
   ]
  },
  {
   "cell_type": "code",
   "execution_count": 13,
   "id": "b419fb2a",
   "metadata": {
    "execution": {
     "iopub.execute_input": "2023-08-28T08:38:44.373927Z",
     "iopub.status.busy": "2023-08-28T08:38:44.373518Z",
     "iopub.status.idle": "2023-08-28T08:38:44.381332Z",
     "shell.execute_reply": "2023-08-28T08:38:44.380236Z"
    },
    "papermill": {
     "duration": 0.019371,
     "end_time": "2023-08-28T08:38:44.383572",
     "exception": false,
     "start_time": "2023-08-28T08:38:44.364201",
     "status": "completed"
    },
    "tags": []
   },
   "outputs": [
    {
     "data": {
      "text/plain": [
       "array([ 0.,  0.,  5., 13.,  9.,  1.,  0.,  0.,  0.,  0., 13., 15., 10.,\n",
       "       15.,  5.,  0.,  0.,  3., 15.,  2.,  0., 11.,  8.,  0.,  0.,  4.,\n",
       "       12.,  0.,  0.,  8.,  8.,  0.,  0.,  5.,  8.,  0.,  0.,  9.,  8.,\n",
       "        0.,  0.,  4., 11.,  0.,  1., 12.,  7.,  0.,  0.,  2., 14.,  5.,\n",
       "       10., 12.,  0.,  0.,  0.,  0.,  6., 13., 10.,  0.,  0.,  0.])"
      ]
     },
     "execution_count": 13,
     "metadata": {},
     "output_type": "execute_result"
    }
   ],
   "source": [
    "data[0]"
   ]
  },
  {
   "cell_type": "code",
   "execution_count": 14,
   "id": "36daf4d5",
   "metadata": {
    "execution": {
     "iopub.execute_input": "2023-08-28T08:38:44.401538Z",
     "iopub.status.busy": "2023-08-28T08:38:44.401139Z",
     "iopub.status.idle": "2023-08-28T08:38:44.407674Z",
     "shell.execute_reply": "2023-08-28T08:38:44.406675Z"
    },
    "papermill": {
     "duration": 0.018151,
     "end_time": "2023-08-28T08:38:44.409950",
     "exception": false,
     "start_time": "2023-08-28T08:38:44.391799",
     "status": "completed"
    },
    "tags": []
   },
   "outputs": [
    {
     "data": {
      "text/plain": [
       "(64,)"
      ]
     },
     "execution_count": 14,
     "metadata": {},
     "output_type": "execute_result"
    }
   ],
   "source": [
    "data[0].shape"
   ]
  },
  {
   "cell_type": "code",
   "execution_count": 15,
   "id": "95869725",
   "metadata": {
    "execution": {
     "iopub.execute_input": "2023-08-28T08:38:44.427530Z",
     "iopub.status.busy": "2023-08-28T08:38:44.427117Z",
     "iopub.status.idle": "2023-08-28T08:38:44.433650Z",
     "shell.execute_reply": "2023-08-28T08:38:44.432618Z"
    },
    "papermill": {
     "duration": 0.017572,
     "end_time": "2023-08-28T08:38:44.435481",
     "exception": false,
     "start_time": "2023-08-28T08:38:44.417909",
     "status": "completed"
    },
    "tags": []
   },
   "outputs": [
    {
     "data": {
      "text/plain": [
       "(1797, 64)"
      ]
     },
     "execution_count": 15,
     "metadata": {},
     "output_type": "execute_result"
    }
   ],
   "source": [
    "data.shape"
   ]
  },
  {
   "cell_type": "code",
   "execution_count": 16,
   "id": "cfb0fde9",
   "metadata": {
    "execution": {
     "iopub.execute_input": "2023-08-28T08:38:44.453178Z",
     "iopub.status.busy": "2023-08-28T08:38:44.452563Z",
     "iopub.status.idle": "2023-08-28T08:38:44.459061Z",
     "shell.execute_reply": "2023-08-28T08:38:44.458018Z"
    },
    "papermill": {
     "duration": 0.017706,
     "end_time": "2023-08-28T08:38:44.461186",
     "exception": false,
     "start_time": "2023-08-28T08:38:44.443480",
     "status": "completed"
    },
    "tags": []
   },
   "outputs": [
    {
     "data": {
      "text/plain": [
       "0.0"
      ]
     },
     "execution_count": 16,
     "metadata": {},
     "output_type": "execute_result"
    }
   ],
   "source": [
    "data.min()"
   ]
  },
  {
   "cell_type": "code",
   "execution_count": 17,
   "id": "5020457c",
   "metadata": {
    "execution": {
     "iopub.execute_input": "2023-08-28T08:38:44.479346Z",
     "iopub.status.busy": "2023-08-28T08:38:44.478979Z",
     "iopub.status.idle": "2023-08-28T08:38:44.486012Z",
     "shell.execute_reply": "2023-08-28T08:38:44.484908Z"
    },
    "papermill": {
     "duration": 0.018922,
     "end_time": "2023-08-28T08:38:44.488332",
     "exception": false,
     "start_time": "2023-08-28T08:38:44.469410",
     "status": "completed"
    },
    "tags": []
   },
   "outputs": [
    {
     "data": {
      "text/plain": [
       "16.0"
      ]
     },
     "execution_count": 17,
     "metadata": {},
     "output_type": "execute_result"
    }
   ],
   "source": [
    "data.max()"
   ]
  },
  {
   "cell_type": "code",
   "execution_count": 18,
   "id": "8d641510",
   "metadata": {
    "execution": {
     "iopub.execute_input": "2023-08-28T08:38:44.507033Z",
     "iopub.status.busy": "2023-08-28T08:38:44.506618Z",
     "iopub.status.idle": "2023-08-28T08:38:44.511467Z",
     "shell.execute_reply": "2023-08-28T08:38:44.510335Z"
    },
    "papermill": {
     "duration": 0.016907,
     "end_time": "2023-08-28T08:38:44.513653",
     "exception": false,
     "start_time": "2023-08-28T08:38:44.496746",
     "status": "completed"
    },
    "tags": []
   },
   "outputs": [],
   "source": [
    "data = data/16"
   ]
  },
  {
   "cell_type": "code",
   "execution_count": 19,
   "id": "50932507",
   "metadata": {
    "execution": {
     "iopub.execute_input": "2023-08-28T08:38:44.531944Z",
     "iopub.status.busy": "2023-08-28T08:38:44.531548Z",
     "iopub.status.idle": "2023-08-28T08:38:44.537794Z",
     "shell.execute_reply": "2023-08-28T08:38:44.536892Z"
    },
    "papermill": {
     "duration": 0.017646,
     "end_time": "2023-08-28T08:38:44.539569",
     "exception": false,
     "start_time": "2023-08-28T08:38:44.521923",
     "status": "completed"
    },
    "tags": []
   },
   "outputs": [
    {
     "data": {
      "text/plain": [
       "0.0"
      ]
     },
     "execution_count": 19,
     "metadata": {},
     "output_type": "execute_result"
    }
   ],
   "source": [
    "data.min()"
   ]
  },
  {
   "cell_type": "code",
   "execution_count": 20,
   "id": "63bbd859",
   "metadata": {
    "execution": {
     "iopub.execute_input": "2023-08-28T08:38:44.558515Z",
     "iopub.status.busy": "2023-08-28T08:38:44.557555Z",
     "iopub.status.idle": "2023-08-28T08:38:44.563870Z",
     "shell.execute_reply": "2023-08-28T08:38:44.562891Z"
    },
    "papermill": {
     "duration": 0.017778,
     "end_time": "2023-08-28T08:38:44.565920",
     "exception": false,
     "start_time": "2023-08-28T08:38:44.548142",
     "status": "completed"
    },
    "tags": []
   },
   "outputs": [
    {
     "data": {
      "text/plain": [
       "1.0"
      ]
     },
     "execution_count": 20,
     "metadata": {},
     "output_type": "execute_result"
    }
   ],
   "source": [
    "data.max()"
   ]
  },
  {
   "cell_type": "code",
   "execution_count": 21,
   "id": "5e98bc06",
   "metadata": {
    "execution": {
     "iopub.execute_input": "2023-08-28T08:38:44.584967Z",
     "iopub.status.busy": "2023-08-28T08:38:44.584492Z",
     "iopub.status.idle": "2023-08-28T08:38:44.591262Z",
     "shell.execute_reply": "2023-08-28T08:38:44.590377Z"
    },
    "papermill": {
     "duration": 0.018996,
     "end_time": "2023-08-28T08:38:44.593467",
     "exception": false,
     "start_time": "2023-08-28T08:38:44.574471",
     "status": "completed"
    },
    "tags": []
   },
   "outputs": [
    {
     "data": {
      "text/plain": [
       "array([0.    , 0.    , 0.3125, 0.8125, 0.5625, 0.0625, 0.    , 0.    ,\n",
       "       0.    , 0.    , 0.8125, 0.9375, 0.625 , 0.9375, 0.3125, 0.    ,\n",
       "       0.    , 0.1875, 0.9375, 0.125 , 0.    , 0.6875, 0.5   , 0.    ,\n",
       "       0.    , 0.25  , 0.75  , 0.    , 0.    , 0.5   , 0.5   , 0.    ,\n",
       "       0.    , 0.3125, 0.5   , 0.    , 0.    , 0.5625, 0.5   , 0.    ,\n",
       "       0.    , 0.25  , 0.6875, 0.    , 0.0625, 0.75  , 0.4375, 0.    ,\n",
       "       0.    , 0.125 , 0.875 , 0.3125, 0.625 , 0.75  , 0.    , 0.    ,\n",
       "       0.    , 0.    , 0.375 , 0.8125, 0.625 , 0.    , 0.    , 0.    ])"
      ]
     },
     "execution_count": 21,
     "metadata": {},
     "output_type": "execute_result"
    }
   ],
   "source": [
    "data[0]"
   ]
  },
  {
   "cell_type": "code",
   "execution_count": 22,
   "id": "606a6e4a",
   "metadata": {
    "execution": {
     "iopub.execute_input": "2023-08-28T08:38:44.612568Z",
     "iopub.status.busy": "2023-08-28T08:38:44.612186Z",
     "iopub.status.idle": "2023-08-28T08:38:44.710574Z",
     "shell.execute_reply": "2023-08-28T08:38:44.709520Z"
    },
    "papermill": {
     "duration": 0.110944,
     "end_time": "2023-08-28T08:38:44.713137",
     "exception": false,
     "start_time": "2023-08-28T08:38:44.602193",
     "status": "completed"
    },
    "tags": []
   },
   "outputs": [],
   "source": [
    "from sklearn.model_selection import train_test_split"
   ]
  },
  {
   "cell_type": "code",
   "execution_count": 23,
   "id": "243b0f63",
   "metadata": {
    "execution": {
     "iopub.execute_input": "2023-08-28T08:38:44.732410Z",
     "iopub.status.busy": "2023-08-28T08:38:44.732038Z",
     "iopub.status.idle": "2023-08-28T08:38:44.737719Z",
     "shell.execute_reply": "2023-08-28T08:38:44.736711Z"
    },
    "papermill": {
     "duration": 0.017869,
     "end_time": "2023-08-28T08:38:44.739926",
     "exception": false,
     "start_time": "2023-08-28T08:38:44.722057",
     "status": "completed"
    },
    "tags": []
   },
   "outputs": [],
   "source": [
    "X_train, X_test, y_train, y_test = train_test_split(data, df.target, test_size=0.3)"
   ]
  },
  {
   "cell_type": "code",
   "execution_count": 24,
   "id": "ecef22c6",
   "metadata": {
    "execution": {
     "iopub.execute_input": "2023-08-28T08:38:44.759385Z",
     "iopub.status.busy": "2023-08-28T08:38:44.758481Z",
     "iopub.status.idle": "2023-08-28T08:38:44.765290Z",
     "shell.execute_reply": "2023-08-28T08:38:44.764176Z"
    },
    "papermill": {
     "duration": 0.018721,
     "end_time": "2023-08-28T08:38:44.767330",
     "exception": false,
     "start_time": "2023-08-28T08:38:44.748609",
     "status": "completed"
    },
    "tags": []
   },
   "outputs": [
    {
     "data": {
      "text/plain": [
       "((1257, 64), (540, 64), (1257,), (540,))"
      ]
     },
     "execution_count": 24,
     "metadata": {},
     "output_type": "execute_result"
    }
   ],
   "source": [
    "X_train.shape, X_test.shape, y_train.shape, y_test.shape"
   ]
  },
  {
   "cell_type": "code",
   "execution_count": 25,
   "id": "ee196381",
   "metadata": {
    "execution": {
     "iopub.execute_input": "2023-08-28T08:38:44.786834Z",
     "iopub.status.busy": "2023-08-28T08:38:44.786419Z",
     "iopub.status.idle": "2023-08-28T08:38:45.158569Z",
     "shell.execute_reply": "2023-08-28T08:38:45.157495Z"
    },
    "papermill": {
     "duration": 0.384789,
     "end_time": "2023-08-28T08:38:45.161139",
     "exception": false,
     "start_time": "2023-08-28T08:38:44.776350",
     "status": "completed"
    },
    "tags": []
   },
   "outputs": [],
   "source": [
    "from sklearn.ensemble import RandomForestClassifier"
   ]
  },
  {
   "cell_type": "code",
   "execution_count": 26,
   "id": "eb499894",
   "metadata": {
    "execution": {
     "iopub.execute_input": "2023-08-28T08:38:45.180667Z",
     "iopub.status.busy": "2023-08-28T08:38:45.180270Z",
     "iopub.status.idle": "2023-08-28T08:38:45.185099Z",
     "shell.execute_reply": "2023-08-28T08:38:45.184024Z"
    },
    "papermill": {
     "duration": 0.016979,
     "end_time": "2023-08-28T08:38:45.187167",
     "exception": false,
     "start_time": "2023-08-28T08:38:45.170188",
     "status": "completed"
    },
    "tags": []
   },
   "outputs": [],
   "source": [
    "rf = RandomForestClassifier()"
   ]
  },
  {
   "cell_type": "code",
   "execution_count": 27,
   "id": "b6358aa3",
   "metadata": {
    "execution": {
     "iopub.execute_input": "2023-08-28T08:38:45.206904Z",
     "iopub.status.busy": "2023-08-28T08:38:45.206512Z",
     "iopub.status.idle": "2023-08-28T08:38:45.597580Z",
     "shell.execute_reply": "2023-08-28T08:38:45.596445Z"
    },
    "papermill": {
     "duration": 0.403911,
     "end_time": "2023-08-28T08:38:45.599950",
     "exception": false,
     "start_time": "2023-08-28T08:38:45.196039",
     "status": "completed"
    },
    "tags": []
   },
   "outputs": [
    {
     "data": {
      "text/html": [
       "<style>#sk-container-id-1 {color: black;background-color: white;}#sk-container-id-1 pre{padding: 0;}#sk-container-id-1 div.sk-toggleable {background-color: white;}#sk-container-id-1 label.sk-toggleable__label {cursor: pointer;display: block;width: 100%;margin-bottom: 0;padding: 0.3em;box-sizing: border-box;text-align: center;}#sk-container-id-1 label.sk-toggleable__label-arrow:before {content: \"▸\";float: left;margin-right: 0.25em;color: #696969;}#sk-container-id-1 label.sk-toggleable__label-arrow:hover:before {color: black;}#sk-container-id-1 div.sk-estimator:hover label.sk-toggleable__label-arrow:before {color: black;}#sk-container-id-1 div.sk-toggleable__content {max-height: 0;max-width: 0;overflow: hidden;text-align: left;background-color: #f0f8ff;}#sk-container-id-1 div.sk-toggleable__content pre {margin: 0.2em;color: black;border-radius: 0.25em;background-color: #f0f8ff;}#sk-container-id-1 input.sk-toggleable__control:checked~div.sk-toggleable__content {max-height: 200px;max-width: 100%;overflow: auto;}#sk-container-id-1 input.sk-toggleable__control:checked~label.sk-toggleable__label-arrow:before {content: \"▾\";}#sk-container-id-1 div.sk-estimator input.sk-toggleable__control:checked~label.sk-toggleable__label {background-color: #d4ebff;}#sk-container-id-1 div.sk-label input.sk-toggleable__control:checked~label.sk-toggleable__label {background-color: #d4ebff;}#sk-container-id-1 input.sk-hidden--visually {border: 0;clip: rect(1px 1px 1px 1px);clip: rect(1px, 1px, 1px, 1px);height: 1px;margin: -1px;overflow: hidden;padding: 0;position: absolute;width: 1px;}#sk-container-id-1 div.sk-estimator {font-family: monospace;background-color: #f0f8ff;border: 1px dotted black;border-radius: 0.25em;box-sizing: border-box;margin-bottom: 0.5em;}#sk-container-id-1 div.sk-estimator:hover {background-color: #d4ebff;}#sk-container-id-1 div.sk-parallel-item::after {content: \"\";width: 100%;border-bottom: 1px solid gray;flex-grow: 1;}#sk-container-id-1 div.sk-label:hover label.sk-toggleable__label {background-color: #d4ebff;}#sk-container-id-1 div.sk-serial::before {content: \"\";position: absolute;border-left: 1px solid gray;box-sizing: border-box;top: 0;bottom: 0;left: 50%;z-index: 0;}#sk-container-id-1 div.sk-serial {display: flex;flex-direction: column;align-items: center;background-color: white;padding-right: 0.2em;padding-left: 0.2em;position: relative;}#sk-container-id-1 div.sk-item {position: relative;z-index: 1;}#sk-container-id-1 div.sk-parallel {display: flex;align-items: stretch;justify-content: center;background-color: white;position: relative;}#sk-container-id-1 div.sk-item::before, #sk-container-id-1 div.sk-parallel-item::before {content: \"\";position: absolute;border-left: 1px solid gray;box-sizing: border-box;top: 0;bottom: 0;left: 50%;z-index: -1;}#sk-container-id-1 div.sk-parallel-item {display: flex;flex-direction: column;z-index: 1;position: relative;background-color: white;}#sk-container-id-1 div.sk-parallel-item:first-child::after {align-self: flex-end;width: 50%;}#sk-container-id-1 div.sk-parallel-item:last-child::after {align-self: flex-start;width: 50%;}#sk-container-id-1 div.sk-parallel-item:only-child::after {width: 0;}#sk-container-id-1 div.sk-dashed-wrapped {border: 1px dashed gray;margin: 0 0.4em 0.5em 0.4em;box-sizing: border-box;padding-bottom: 0.4em;background-color: white;}#sk-container-id-1 div.sk-label label {font-family: monospace;font-weight: bold;display: inline-block;line-height: 1.2em;}#sk-container-id-1 div.sk-label-container {text-align: center;}#sk-container-id-1 div.sk-container {/* jupyter's `normalize.less` sets `[hidden] { display: none; }` but bootstrap.min.css set `[hidden] { display: none !important; }` so we also need the `!important` here to be able to override the default hidden behavior on the sphinx rendered scikit-learn.org. See: https://github.com/scikit-learn/scikit-learn/issues/21755 */display: inline-block !important;position: relative;}#sk-container-id-1 div.sk-text-repr-fallback {display: none;}</style><div id=\"sk-container-id-1\" class=\"sk-top-container\"><div class=\"sk-text-repr-fallback\"><pre>RandomForestClassifier()</pre><b>In a Jupyter environment, please rerun this cell to show the HTML representation or trust the notebook. <br />On GitHub, the HTML representation is unable to render, please try loading this page with nbviewer.org.</b></div><div class=\"sk-container\" hidden><div class=\"sk-item\"><div class=\"sk-estimator sk-toggleable\"><input class=\"sk-toggleable__control sk-hidden--visually\" id=\"sk-estimator-id-1\" type=\"checkbox\" checked><label for=\"sk-estimator-id-1\" class=\"sk-toggleable__label sk-toggleable__label-arrow\">RandomForestClassifier</label><div class=\"sk-toggleable__content\"><pre>RandomForestClassifier()</pre></div></div></div></div></div>"
      ],
      "text/plain": [
       "RandomForestClassifier()"
      ]
     },
     "execution_count": 27,
     "metadata": {},
     "output_type": "execute_result"
    }
   ],
   "source": [
    "rf.fit(X_train, y_train)"
   ]
  },
  {
   "cell_type": "code",
   "execution_count": 28,
   "id": "5c96e06c",
   "metadata": {
    "execution": {
     "iopub.execute_input": "2023-08-28T08:38:45.619895Z",
     "iopub.status.busy": "2023-08-28T08:38:45.619522Z",
     "iopub.status.idle": "2023-08-28T08:38:45.645146Z",
     "shell.execute_reply": "2023-08-28T08:38:45.644195Z"
    },
    "papermill": {
     "duration": 0.038574,
     "end_time": "2023-08-28T08:38:45.647698",
     "exception": false,
     "start_time": "2023-08-28T08:38:45.609124",
     "status": "completed"
    },
    "tags": []
   },
   "outputs": [],
   "source": [
    "y_pred = rf.predict(X_test)"
   ]
  },
  {
   "cell_type": "code",
   "execution_count": 29,
   "id": "cf690c74",
   "metadata": {
    "execution": {
     "iopub.execute_input": "2023-08-28T08:38:45.668034Z",
     "iopub.status.busy": "2023-08-28T08:38:45.667584Z",
     "iopub.status.idle": "2023-08-28T08:38:45.675253Z",
     "shell.execute_reply": "2023-08-28T08:38:45.674329Z"
    },
    "papermill": {
     "duration": 0.02013,
     "end_time": "2023-08-28T08:38:45.677335",
     "exception": false,
     "start_time": "2023-08-28T08:38:45.657205",
     "status": "completed"
    },
    "tags": []
   },
   "outputs": [
    {
     "data": {
      "text/plain": [
       "array([3, 9, 4, 4, 1, 1, 6, 8, 3, 9, 8, 5, 1, 2, 5, 0, 3, 3, 9, 6, 7, 5,\n",
       "       7, 2, 3, 6, 9, 7, 9, 4, 6, 0, 0, 2, 4, 2, 5, 5, 0, 9, 5, 3, 7, 9,\n",
       "       5, 6, 7, 5, 8, 0, 7, 5, 8, 0, 2, 3, 0, 0, 1, 7, 9, 5, 9, 4, 5, 5,\n",
       "       0, 2, 0, 0, 3, 1, 5, 0, 4, 5, 4, 9, 8, 4, 2, 5, 7, 9, 9, 3, 5, 7,\n",
       "       1, 6, 2, 6, 0, 6, 2, 5, 6, 7, 2, 6, 5, 1, 7, 3, 6, 4, 5, 6, 7, 9,\n",
       "       1, 3, 1, 9, 1, 8, 3, 2, 2, 5, 7, 4, 2, 3, 0, 4, 8, 4, 4, 3, 2, 9,\n",
       "       8, 3, 8, 4, 2, 3, 2, 7, 4, 1, 4, 5, 6, 9, 1, 2, 1, 7, 3, 0, 0, 0,\n",
       "       0, 6, 5, 7, 4, 0, 7, 5, 7, 2, 8, 2, 7, 5, 5, 3, 6, 4, 0, 1, 0, 3,\n",
       "       6, 0, 9, 1, 9, 2, 7, 8, 2, 7, 1, 1, 4, 5, 2, 3, 6, 2, 8, 0, 3, 2,\n",
       "       4, 8, 2, 0, 1, 2, 6, 1, 7, 4, 4, 5, 8, 5, 0, 2, 5, 2, 6, 3, 0, 7,\n",
       "       1, 6, 5, 0, 6, 1, 0, 2, 9, 1, 0, 0, 5, 8, 7, 3, 7, 0, 6, 0, 5, 7,\n",
       "       2, 0, 6, 2, 9, 9, 9, 6, 6, 8, 8, 5, 4, 1, 7, 1, 2, 0, 8, 1, 2, 1,\n",
       "       5, 8, 7, 4, 1, 6, 1, 0, 9, 3, 7, 0, 4, 4, 5, 6, 6, 1, 7, 8, 1, 5,\n",
       "       5, 7, 0, 6, 2, 0, 1, 8, 7, 1, 4, 4, 8, 0, 4, 5, 3, 6, 3, 3, 9, 2,\n",
       "       6, 4, 8, 5, 2, 2, 6, 9, 3, 2, 3, 7, 4, 1, 3, 4, 8, 4, 8, 3, 0, 4,\n",
       "       4, 8, 9, 3, 2, 7, 7, 9, 8, 8, 6, 2, 8, 2, 8, 9, 8, 6, 8, 4, 0, 7,\n",
       "       3, 1, 5, 6, 8, 9, 6, 4, 1, 2, 1, 7, 5, 0, 5, 5, 2, 7, 7, 1, 4, 8,\n",
       "       7, 1, 5, 5, 8, 1, 4, 3, 6, 5, 9, 4, 9, 2, 9, 1, 1, 9, 4, 0, 4, 7,\n",
       "       0, 5, 2, 9, 7, 7, 4, 7, 7, 4, 4, 9, 6, 4, 7, 6, 8, 3, 9, 3, 6, 1,\n",
       "       6, 4, 1, 2, 5, 3, 1, 4, 1, 3, 1, 5, 1, 3, 1, 9, 8, 9, 5, 6, 4, 2,\n",
       "       8, 7, 2, 3, 8, 8, 4, 4, 3, 9, 0, 2, 9, 8, 5, 4, 7, 9, 3, 0, 0, 9,\n",
       "       2, 5, 3, 1, 0, 4, 6, 5, 7, 8, 3, 5, 7, 3, 0, 5, 1, 8, 6, 0, 3, 9,\n",
       "       0, 7, 5, 3, 1, 5, 4, 6, 6, 7, 7, 6, 4, 9, 6, 2, 6, 2, 8, 4, 8, 6,\n",
       "       1, 7, 5, 0, 8, 1, 0, 7, 2, 9, 9, 7, 1, 7, 6, 3, 1, 4, 4, 1, 8, 1,\n",
       "       6, 2, 8, 2, 9, 3, 5, 9, 3, 3, 9, 0])"
      ]
     },
     "execution_count": 29,
     "metadata": {},
     "output_type": "execute_result"
    }
   ],
   "source": [
    "y_pred"
   ]
  },
  {
   "cell_type": "code",
   "execution_count": 30,
   "id": "57301da3",
   "metadata": {
    "execution": {
     "iopub.execute_input": "2023-08-28T08:38:45.697854Z",
     "iopub.status.busy": "2023-08-28T08:38:45.697229Z",
     "iopub.status.idle": "2023-08-28T08:38:45.701861Z",
     "shell.execute_reply": "2023-08-28T08:38:45.700901Z"
    },
    "papermill": {
     "duration": 0.017079,
     "end_time": "2023-08-28T08:38:45.703921",
     "exception": false,
     "start_time": "2023-08-28T08:38:45.686842",
     "status": "completed"
    },
    "tags": []
   },
   "outputs": [],
   "source": [
    "from sklearn.metrics import confusion_matrix, classification_report"
   ]
  },
  {
   "cell_type": "code",
   "execution_count": 31,
   "id": "e4f0ac7a",
   "metadata": {
    "execution": {
     "iopub.execute_input": "2023-08-28T08:38:45.724095Z",
     "iopub.status.busy": "2023-08-28T08:38:45.723721Z",
     "iopub.status.idle": "2023-08-28T08:38:45.732350Z",
     "shell.execute_reply": "2023-08-28T08:38:45.731680Z"
    },
    "papermill": {
     "duration": 0.020832,
     "end_time": "2023-08-28T08:38:45.734215",
     "exception": false,
     "start_time": "2023-08-28T08:38:45.713383",
     "status": "completed"
    },
    "tags": []
   },
   "outputs": [
    {
     "data": {
      "text/plain": [
       "array([[54,  0,  0,  0,  2,  0,  0,  0,  0,  0],\n",
       "       [ 0, 54,  0,  0,  0,  0,  0,  0,  0,  0],\n",
       "       [ 0,  0, 54,  0,  0,  0,  0,  0,  0,  0],\n",
       "       [ 0,  0,  0, 50,  0,  1,  0,  0,  0,  0],\n",
       "       [ 0,  0,  0,  0, 55,  0,  0,  0,  0,  0],\n",
       "       [ 0,  0,  0,  0,  1, 56,  0,  0,  0,  1],\n",
       "       [ 0,  0,  0,  0,  0,  0, 52,  0,  1,  0],\n",
       "       [ 0,  0,  0,  0,  0,  0,  0, 57,  0,  1],\n",
       "       [ 0,  2,  1,  0,  0,  0,  0,  0, 46,  0],\n",
       "       [ 0,  1,  0,  1,  0,  2,  0,  0,  1, 47]])"
      ]
     },
     "execution_count": 31,
     "metadata": {},
     "output_type": "execute_result"
    }
   ],
   "source": [
    "confusion_matrix(y_test, y_pred)"
   ]
  },
  {
   "cell_type": "code",
   "execution_count": 32,
   "id": "b1f5bf6a",
   "metadata": {
    "execution": {
     "iopub.execute_input": "2023-08-28T08:38:45.754895Z",
     "iopub.status.busy": "2023-08-28T08:38:45.753996Z",
     "iopub.status.idle": "2023-08-28T08:38:45.767241Z",
     "shell.execute_reply": "2023-08-28T08:38:45.765487Z"
    },
    "papermill": {
     "duration": 0.026005,
     "end_time": "2023-08-28T08:38:45.769458",
     "exception": false,
     "start_time": "2023-08-28T08:38:45.743453",
     "status": "completed"
    },
    "tags": []
   },
   "outputs": [
    {
     "name": "stdout",
     "output_type": "stream",
     "text": [
      "              precision    recall  f1-score   support\n",
      "\n",
      "           0       1.00      0.96      0.98        56\n",
      "           1       0.95      1.00      0.97        54\n",
      "           2       0.98      1.00      0.99        54\n",
      "           3       0.98      0.98      0.98        51\n",
      "           4       0.95      1.00      0.97        55\n",
      "           5       0.95      0.97      0.96        58\n",
      "           6       1.00      0.98      0.99        53\n",
      "           7       1.00      0.98      0.99        58\n",
      "           8       0.96      0.94      0.95        49\n",
      "           9       0.96      0.90      0.93        52\n",
      "\n",
      "    accuracy                           0.97       540\n",
      "   macro avg       0.97      0.97      0.97       540\n",
      "weighted avg       0.97      0.97      0.97       540\n",
      "\n"
     ]
    }
   ],
   "source": [
    "print(classification_report(y_test, y_pred))"
   ]
  }
 ],
 "metadata": {
  "kernelspec": {
   "display_name": "Python 3",
   "language": "python",
   "name": "python3"
  },
  "language_info": {
   "codemirror_mode": {
    "name": "ipython",
    "version": 3
   },
   "file_extension": ".py",
   "mimetype": "text/x-python",
   "name": "python",
   "nbconvert_exporter": "python",
   "pygments_lexer": "ipython3",
   "version": "3.10.12"
  },
  "papermill": {
   "default_parameters": {},
   "duration": 13.557949,
   "end_time": "2023-08-28T08:38:46.700477",
   "environment_variables": {},
   "exception": null,
   "input_path": "__notebook__.ipynb",
   "output_path": "__notebook__.ipynb",
   "parameters": {},
   "start_time": "2023-08-28T08:38:33.142528",
   "version": "2.4.0"
  }
 },
 "nbformat": 4,
 "nbformat_minor": 5
}
